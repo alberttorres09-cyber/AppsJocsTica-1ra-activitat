{
 "cells": [
  {
   "cell_type": "code",
   "execution_count": 3,
   "id": "6c78b31b",
   "metadata": {},
   "outputs": [],
   "source": [
    "infectats_inicials = 10"
   ]
  },
  {
   "cell_type": "code",
   "execution_count": 4,
   "id": "68f49b87",
   "metadata": {},
   "outputs": [],
   "source": [
    "població = 1000"
   ]
  },
  {
   "cell_type": "code",
   "execution_count": 5,
   "id": "e3a9b3cb",
   "metadata": {},
   "outputs": [],
   "source": [
    "taxa_contagi = 0.01"
   ]
  },
  {
   "cell_type": "code",
   "execution_count": 6,
   "id": "6b98b4db",
   "metadata": {},
   "outputs": [],
   "source": [
    "dies = 5"
   ]
  },
  {
   "cell_type": "code",
   "execution_count": 7,
   "id": "9757e7df",
   "metadata": {},
   "outputs": [],
   "source": [
    "infectats = infectats_inicials + (població - infectats_inicials)*(1-(1-taxa_contagi)**dies)"
   ]
  },
  {
   "cell_type": "code",
   "execution_count": 8,
   "id": "03594469",
   "metadata": {},
   "outputs": [
    {
     "data": {
      "text/plain": [
       "58.51985059900009"
      ]
     },
     "execution_count": 8,
     "metadata": {},
     "output_type": "execute_result"
    }
   ],
   "source": [
    "infectats"
   ]
  }
 ],
 "metadata": {
  "kernelspec": {
   "display_name": "Python 3",
   "language": "python",
   "name": "python3"
  },
  "language_info": {
   "codemirror_mode": {
    "name": "ipython",
    "version": 3
   },
   "file_extension": ".py",
   "mimetype": "text/x-python",
   "name": "python",
   "nbconvert_exporter": "python",
   "pygments_lexer": "ipython3",
   "version": "3.13.7"
  }
 },
 "nbformat": 4,
 "nbformat_minor": 5
}
