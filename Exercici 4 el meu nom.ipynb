{
 "cells": [
  {
   "cell_type": "code",
   "execution_count": 6,
   "id": "60e4d1fa",
   "metadata": {},
   "outputs": [],
   "source": [
    "nom = \"AlbertTorresSarret\""
   ]
  },
  {
   "cell_type": "code",
   "execution_count": 7,
   "id": "fd32f79b",
   "metadata": {},
   "outputs": [],
   "source": [
    "primera_lletra = \"A\""
   ]
  },
  {
   "cell_type": "code",
   "execution_count": 8,
   "id": "8c816812",
   "metadata": {},
   "outputs": [],
   "source": [
    "tres_lletres = \"lbe\""
   ]
  },
  {
   "cell_type": "code",
   "execution_count": 10,
   "id": "08b40b7f",
   "metadata": {},
   "outputs": [],
   "source": [
    "nom_m = \"albert\""
   ]
  },
  {
   "cell_type": "code",
   "execution_count": 25,
   "id": "4bdacfc4",
   "metadata": {},
   "outputs": [],
   "source": [
    "ultima_lletra = \"t\""
   ]
  },
  {
   "cell_type": "code",
   "execution_count": 26,
   "id": "291bda42",
   "metadata": {},
   "outputs": [],
   "source": [
    "nom_M = \"Albert\""
   ]
  },
  {
   "cell_type": "code",
   "execution_count": 27,
   "id": "3e71c730",
   "metadata": {},
   "outputs": [],
   "source": [
    "llargada_nom = len(nom)"
   ]
  },
  {
   "cell_type": "code",
   "execution_count": 28,
   "id": "4df35c3b",
   "metadata": {},
   "outputs": [
    {
     "name": "stdout",
     "output_type": "stream",
     "text": [
      "Hola el meu nom és AlbertTorresSarret.\n",
      "aixio es una altra linia\n"
     ]
    }
   ],
   "source": [
    "print(f\"Hola el meu nom és {nom}.\\naixio es una altra linia\")"
   ]
  },
  {
   "cell_type": "code",
   "execution_count": 29,
   "id": "6ee1d17d",
   "metadata": {},
   "outputs": [
    {
     "name": "stdout",
     "output_type": "stream",
     "text": [
      "La primera lletra del meu nom ésA.\n",
      "\n"
     ]
    }
   ],
   "source": [
    "print(f\"La primera lletra del meu nom és{primera_lletra}.\\n\")"
   ]
  },
  {
   "cell_type": "code",
   "execution_count": 33,
   "id": "dab7c60e",
   "metadata": {},
   "outputs": [
    {
     "name": "stdout",
     "output_type": "stream",
     "text": [
      "l'última lletra del meu nom ést.\n",
      "\n"
     ]
    }
   ],
   "source": [
    "print(f\"l'última lletra del meu nom és{ultima_lletra}.\\n\")"
   ]
  },
  {
   "cell_type": "code",
   "execution_count": 34,
   "id": "2caa6908",
   "metadata": {},
   "outputs": [
    {
     "name": "stdout",
     "output_type": "stream",
     "text": [
      " els tres carácters entre la posició 2 i la posició 5 són lbe.\n",
      "\n"
     ]
    }
   ],
   "source": [
    "print(f\" els tres carácters entre la posició 2 i la posició 5 són {tres_lletres}.\\n\")"
   ]
  },
  {
   "cell_type": "code",
   "execution_count": 35,
   "id": "f9d311f0",
   "metadata": {},
   "outputs": [
    {
     "name": "stdout",
     "output_type": "stream",
     "text": [
      "el meu nom amb espais te18.\n",
      "\n"
     ]
    }
   ],
   "source": [
    "print(f\"el meu nom amb espais te{llargada_nom}.\\n\")"
   ]
  },
  {
   "cell_type": "code",
   "execution_count": 36,
   "id": "e6489391",
   "metadata": {},
   "outputs": [
    {
     "name": "stdout",
     "output_type": "stream",
     "text": [
      "el meu nom amb majuscules es veu aixíAlbert.\n",
      "\n"
     ]
    }
   ],
   "source": [
    "print(f\"el meu nom amb majuscules es veu així{nom_M}.\\n\")"
   ]
  },
  {
   "cell_type": "code",
   "execution_count": 37,
   "id": "cd1abfc3",
   "metadata": {},
   "outputs": [
    {
     "name": "stdout",
     "output_type": "stream",
     "text": [
      "el meu nom amb minúscules es veu aixíalbert.\n",
      "\n"
     ]
    }
   ],
   "source": [
    "print(f\"el meu nom amb minúscules es veu així{nom_m}.\\n\")"
   ]
  }
 ],
 "metadata": {
  "kernelspec": {
   "display_name": "Python 3",
   "language": "python",
   "name": "python3"
  },
  "language_info": {
   "codemirror_mode": {
    "name": "ipython",
    "version": 3
   },
   "file_extension": ".py",
   "mimetype": "text/x-python",
   "name": "python",
   "nbconvert_exporter": "python",
   "pygments_lexer": "ipython3",
   "version": "3.13.7"
  }
 },
 "nbformat": 4,
 "nbformat_minor": 5
}
