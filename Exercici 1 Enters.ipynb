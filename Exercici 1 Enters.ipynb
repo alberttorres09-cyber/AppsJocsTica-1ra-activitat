{
 "cells": [
  {
   "cell_type": "code",
   "execution_count": 6,
   "id": "d11cec02",
   "metadata": {},
   "outputs": [],
   "source": [
    "preu_entrada = 8.35"
   ]
  },
  {
   "cell_type": "code",
   "execution_count": 7,
   "id": "e99a4320",
   "metadata": {},
   "outputs": [],
   "source": [
    "nombre_entrada = 1"
   ]
  },
  {
   "cell_type": "code",
   "execution_count": 8,
   "id": "3048752f",
   "metadata": {},
   "outputs": [],
   "source": [
    "nombre_entrada = 5"
   ]
  },
  {
   "cell_type": "code",
   "execution_count": 9,
   "id": "7f96d791",
   "metadata": {},
   "outputs": [],
   "source": [
    "nombre_entrada = 354"
   ]
  },
  {
   "cell_type": "code",
   "execution_count": 10,
   "id": "4deef210",
   "metadata": {},
   "outputs": [
    {
     "data": {
      "text/plain": [
       "8.35"
      ]
     },
     "execution_count": 10,
     "metadata": {},
     "output_type": "execute_result"
    }
   ],
   "source": [
    "8.35*1"
   ]
  },
  {
   "cell_type": "code",
   "execution_count": 11,
   "id": "e97259bf",
   "metadata": {},
   "outputs": [
    {
     "data": {
      "text/plain": [
       "41.75"
      ]
     },
     "execution_count": 11,
     "metadata": {},
     "output_type": "execute_result"
    }
   ],
   "source": [
    "8.35*5"
   ]
  },
  {
   "cell_type": "code",
   "execution_count": 12,
   "id": "4eb6f4f8",
   "metadata": {},
   "outputs": [
    {
     "data": {
      "text/plain": [
       "2955.9"
      ]
     },
     "execution_count": 12,
     "metadata": {},
     "output_type": "execute_result"
    }
   ],
   "source": [
    "8.35*354"
   ]
  },
  {
   "cell_type": "code",
   "execution_count": 13,
   "id": "b1924a57",
   "metadata": {},
   "outputs": [],
   "source": [
    "cost_total = (nombre_entrada)*(preu_entrada)"
   ]
  },
  {
   "cell_type": "code",
   "execution_count": 15,
   "id": "44300bbd",
   "metadata": {},
   "outputs": [],
   "source": [
    "nombre_entrades_retornades = 4"
   ]
  },
  {
   "cell_type": "code",
   "execution_count": 19,
   "id": "7ede3aad",
   "metadata": {},
   "outputs": [],
   "source": [
    "percentatge = 8.35*88/100"
   ]
  },
  {
   "cell_type": "code",
   "execution_count": 27,
   "id": "a52de2e7",
   "metadata": {},
   "outputs": [],
   "source": [
    "preu_entrades = 8.35"
   ]
  },
  {
   "cell_type": "code",
   "execution_count": 28,
   "id": "a505a182",
   "metadata": {},
   "outputs": [],
   "source": [
    "nombre_entrades = 10-4"
   ]
  },
  {
   "cell_type": "code",
   "execution_count": 31,
   "id": "c4560c25",
   "metadata": {},
   "outputs": [],
   "source": [
    "cost_total = (nombre_entrades*preu_entrades) - nombre_entrades_retornades*percentatge"
   ]
  },
  {
   "cell_type": "code",
   "execution_count": 32,
   "id": "c6b85e42",
   "metadata": {},
   "outputs": [
    {
     "data": {
      "text/plain": [
       "20.707999999999995"
      ]
     },
     "execution_count": 32,
     "metadata": {},
     "output_type": "execute_result"
    }
   ],
   "source": [
    "cost_total"
   ]
  }
 ],
 "metadata": {
  "kernelspec": {
   "display_name": "Python 3",
   "language": "python",
   "name": "python3"
  },
  "language_info": {
   "codemirror_mode": {
    "name": "ipython",
    "version": 3
   },
   "file_extension": ".py",
   "mimetype": "text/x-python",
   "name": "python",
   "nbconvert_exporter": "python",
   "pygments_lexer": "ipython3",
   "version": "3.13.7"
  }
 },
 "nbformat": 4,
 "nbformat_minor": 5
}
